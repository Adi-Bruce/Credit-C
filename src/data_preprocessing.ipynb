{
 "cells": [
  {
   "cell_type": "code",
   "execution_count": 5,
   "id": "1cfcdb74",
   "metadata": {},
   "outputs": [],
   "source": [
    "import pandas as pd\n",
    "import sklearn\n",
    "from sklearn.preprocessing import StandardScaler,OneHotEncoder\n",
    "from sklearn.impute import SimpleImputer\n",
    "from sklearn.compose import ColumnTransformer\n",
    "from sklearn.pipeline import Pipeline"
   ]
  },
  {
   "cell_type": "code",
   "execution_count": 7,
   "id": "ca1778b2",
   "metadata": {},
   "outputs": [],
   "source": [
    "df = pd.read_csv(\"/home/brucewayne/cred fraud/data/fraud_data - Sheet 1.csv\")"
   ]
  },
  {
   "cell_type": "code",
   "execution_count": 8,
   "id": "3e93c7cb",
   "metadata": {},
   "outputs": [],
   "source": [
    "num_features = ['Amount','Time','CardHolderAge']\n",
    "cat_features = ['Location','MerchantCategory']"
   ]
  },
  {
   "cell_type": "markdown",
   "id": "3d393022",
   "metadata": {},
   "source": [
    "Data Cleaning,encoding,scaling"
   ]
  },
  {
   "cell_type": "code",
   "execution_count": 9,
   "id": "66512144",
   "metadata": {},
   "outputs": [],
   "source": [
    "num_imputer = SimpleImputer(strategy='median')\n",
    "cat_imputer = SimpleImputer(strategy='most_frequent')"
   ]
  },
  {
   "cell_type": "code",
   "execution_count": 10,
   "id": "a2e675a5",
   "metadata": {},
   "outputs": [],
   "source": [
    "preprocessor = ColumnTransformer(transformers=[(\"num\",Pipeline([('imputer',num_imputer),('scaler',StandardScaler())]),num_features),(\"cat\", Pipeline([\n",
    "            ('imputer', cat_imputer),\n",
    "            ('encoder', OneHotEncoder(handle_unknown='ignore'))\n",
    "        ]), cat_features)])"
   ]
  },
  {
   "cell_type": "code",
   "execution_count": null,
   "id": "0ff88f57",
   "metadata": {},
   "outputs": [],
   "source": [
    "X = df.drop(columns=[\"TransactionID\"])"
   ]
  }
 ],
 "metadata": {
  "kernelspec": {
   "display_name": "cred",
   "language": "python",
   "name": "python3"
  },
  "language_info": {
   "codemirror_mode": {
    "name": "ipython",
    "version": 3
   },
   "file_extension": ".py",
   "mimetype": "text/x-python",
   "name": "python",
   "nbconvert_exporter": "python",
   "pygments_lexer": "ipython3",
   "version": "3.12.11"
  }
 },
 "nbformat": 4,
 "nbformat_minor": 5
}
